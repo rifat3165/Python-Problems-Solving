{
 "cells": [
  {
   "cell_type": "markdown",
   "id": "9ce6a970",
   "metadata": {},
   "source": [
    "# Python Conditions:"
   ]
  },
  {
   "cell_type": "markdown",
   "id": "f162d3eb",
   "metadata": {},
   "source": [
    "1. Take values of the length & breadth of a rectangle from user input and check if it is square or not."
   ]
  },
  {
   "cell_type": "code",
   "execution_count": 1,
   "id": "4d2ae740",
   "metadata": {},
   "outputs": [
    {
     "name": "stdout",
     "output_type": "stream",
     "text": [
      "length: 10\n",
      "breadth: 7.5\n",
      "It is a rectangle because opposite sides of a rectangle are equal and the Area is:  75.0\n"
     ]
    }
   ],
   "source": [
    "length = float(input('length: '))\n",
    "breadth = float(input('breadth: '))\n",
    "\n",
    "if length == breadth:\n",
    "  print('It is a square because all sides of a square are equal')\n",
    "else:\n",
    "  area = length * breadth\n",
    "  print('It is a rectangle because opposite sides of a rectangle are equal and the Area is: ', area)\n"
   ]
  },
  {
   "cell_type": "markdown",
   "id": "5fabeccc",
   "metadata": {},
   "source": [
    "2. Take three integer values from the user and print the greatest among them."
   ]
  },
  {
   "cell_type": "code",
   "execution_count": 2,
   "id": "e732f8cc",
   "metadata": {},
   "outputs": [
    {
     "name": "stdout",
     "output_type": "stream",
     "text": [
      "Enter 1st value: 56\n",
      "Enter 2nd value: 25\n",
      "Enter 3rd value: 78\n",
      "The greatest value is the third value,  78.0\n"
     ]
    }
   ],
   "source": [
    "num1 =float(input('Enter 1st value: '))\n",
    "num2 =float(input('Enter 2nd value: '))\n",
    "num3 =float(input('Enter 3rd value: '))\n",
    "\n",
    "if num1 >= num2 and num1 >= num3:\n",
    "    print(\"The greatest value is the first value, \", num1)\n",
    "elif num2 >= num1 and num2 >= num3:\n",
    "    print(\"The greatest value is the second value, \", num2)\n",
    "else:\n",
    "     print(\"The greatest value is the third value, \", num3)\n"
   ]
  },
  {
   "cell_type": "markdown",
   "id": "5eb51559",
   "metadata": {},
   "source": [
    "3. A student will not be allowed to sit in an exam if his/her attendance is less than 75%."
   ]
  },
  {
   "cell_type": "code",
   "execution_count": 5,
   "id": "65c52483",
   "metadata": {},
   "outputs": [
    {
     "name": "stdout",
     "output_type": "stream",
     "text": [
      "Enter the percentage of a student: 23\n",
      "The student is not allowed for the exam\n"
     ]
    }
   ],
   "source": [
    "number =int(input('Enter the percentage of a student: '))\n",
    "\n",
    "if number >= 75 and number <= 100:\n",
    "    print('The student is allowed for the exam.')\n",
    "elif number < 0 or number > 100:\n",
    "    print('Invalid input, please enter the value between 0-100')\n",
    "else:\n",
    "    print('The student is not allowed for the exam')"
   ]
  },
  {
   "cell_type": "markdown",
   "id": "71ceabbe",
   "metadata": {},
   "source": [
    "4. A school has the following rules for the grading system:\n",
    "Below 25 – F, 25 to 44 – E, 45 to 49 – D, 50 to 59 – C, 60 to 79 – B, 80 to 89 - A, Above 90 - A+\n",
    "Now, Ask the user to enter marks and print the corresponding grade."
   ]
  },
  {
   "cell_type": "code",
   "execution_count": 9,
   "id": "f361a241",
   "metadata": {},
   "outputs": [
    {
     "name": "stdout",
     "output_type": "stream",
     "text": [
      "\n",
      "Grading System,\n",
      "    A+ = 90\n",
      "    A  = 80\n",
      "    B  = 60\n",
      "    c  = 50\n",
      "    D  = 45\n",
      "    E  = 25\n",
      "    \n",
      "Enter Marks: \n",
      "78\n",
      "Marks:  78.0 , Grade: B\n"
     ]
    }
   ],
   "source": [
    "mark = float(input('''\n",
    "Grading System,\n",
    "    A+ = 90\n",
    "    A  = 80\n",
    "    B  = 60\n",
    "    c  = 50\n",
    "    D  = 45\n",
    "    E  = 25\n",
    "    \n",
    "Enter Marks: \n",
    "'''))\n",
    "\n",
    "if mark >= 90 and mark <= 100:\n",
    "    print('Marks: ', mark ,', Grade: A+')\n",
    "elif mark>=80 and mark<=89:\n",
    "    print('Marks: ', mark ,', Grade: A')\n",
    "elif mark>=60 and mark<79:\n",
    "    print('Marks: ', mark ,', Grade: B')\n",
    "elif mark>=50 and mark<=59:\n",
    "    print('Marks: ', mark ,', Grade: C')\n",
    "elif mark>=45 and mark<=49:\n",
    "    print('Marks: ', mark ,', Grade: D')\n",
    "elif mark>=25 and mark<=44:\n",
    "    print('Marks: ', mark ,', Grade: E')\n",
    "elif mark>=0 and mark<=24:\n",
    "    print('Failed!')\n",
    "elif mark<0 or mark > 100:\n",
    "    print('Invalid Input! please enter correct value.')\n",
    "    "
   ]
  },
  {
   "cell_type": "markdown",
   "id": "cc213e68",
   "metadata": {},
   "source": [
    "# Loop Problem"
   ]
  },
  {
   "cell_type": "markdown",
   "id": "ee1f65ad",
   "metadata": {},
   "source": [
    "5. Print the following pattern using for and while loop.\n",
    "\n",
    "    1 2 3 4 5 6 7\n",
    "    \n",
    "    1 2 3 4 5 6\n",
    "    \n",
    "    1 2 3 4 5\n",
    "    \n",
    "    1 2 3 4"
   ]
  },
  {
   "cell_type": "code",
   "execution_count": 11,
   "id": "72fa82a1",
   "metadata": {},
   "outputs": [
    {
     "name": "stdout",
     "output_type": "stream",
     "text": [
      "1 2 3 4 5 6 7 \n",
      "1 2 3 4 5 6 \n",
      "1 2 3 4 5 \n",
      "1 2 3 4 \n"
     ]
    }
   ],
   "source": [
    "for i in range(7, 3, -1):\n",
    "  for  j in range(1,i+1):\n",
    "    print(j, end=' ')\n",
    "  print()"
   ]
  },
  {
   "cell_type": "markdown",
   "id": "9438c10a",
   "metadata": {},
   "source": [
    "6. Display numbers from -100 to -10 using for loop."
   ]
  },
  {
   "cell_type": "code",
   "execution_count": 12,
   "id": "2db64791",
   "metadata": {},
   "outputs": [
    {
     "name": "stdout",
     "output_type": "stream",
     "text": [
      "-100 -99 -98 -97 -96 -95 -94 -93 -92 -91 -90 -89 -88 -87 -86 -85 -84 -83 -82 -81 -80 -79 -78 -77 -76 -75 -74 -73 -72 -71 -70 -69 -68 -67 -66 -65 -64 -63 -62 -61 -60 -59 -58 -57 -56 -55 -54 -53 -52 -51 -50 -49 -48 -47 -46 -45 -44 -43 -42 -41 -40 -39 -38 -37 -36 -35 -34 -33 -32 -31 -30 -29 -28 -27 -26 -25 -24 -23 -22 -21 -20 -19 -18 -17 -16 -15 -14 -13 -12 -11 -10 "
     ]
    }
   ],
   "source": [
    "for i in range(-100, -9, 1):\n",
    "    print(i, end=' ')"
   ]
  },
  {
   "cell_type": "markdown",
   "id": "48678e41",
   "metadata": {},
   "source": [
    "7. Write a program to sum all prime numbers within a range of 10 to 1000."
   ]
  },
  {
   "cell_type": "code",
   "execution_count": 5,
   "id": "6efe72ad",
   "metadata": {},
   "outputs": [
    {
     "name": "stdout",
     "output_type": "stream",
     "text": [
      "Sum of prime numbers between 10 and 1000 is:  76110\n"
     ]
    }
   ],
   "source": [
    "count = 0\n",
    "\n",
    "for i in range(10,1001):\n",
    "    for j in range(2,1001):\n",
    "        if i%j == 0:\n",
    "            break\n",
    "    if i == j:\n",
    "        count += i\n",
    "        \n",
    "print('Sum of prime numbers between 10 and 1000 is: ', count)"
   ]
  },
  {
   "cell_type": "markdown",
   "id": "4907ef10",
   "metadata": {},
   "source": [
    "9. Reverse a given integer number 27956240710."
   ]
  },
  {
   "cell_type": "code",
   "execution_count": 10,
   "id": "5926457a",
   "metadata": {},
   "outputs": [
    {
     "name": "stdout",
     "output_type": "stream",
     "text": [
      "The reverse number is :  1704265972\n"
     ]
    }
   ],
   "source": [
    "reverse = 0\n",
    "num =  27956240710\n",
    "\n",
    "while num != 0:\n",
    "  remainder = num % 10\n",
    "  reverse = reverse * 10 + remainder\n",
    "  num //= 10\n",
    "\n",
    "print(\"The reverse number is : \", reverse)  "
   ]
  },
  {
   "cell_type": "markdown",
   "id": "36df40bb",
   "metadata": {},
   "source": [
    "10. Print the following pattern using for and while loop.\n",
    "# # # # #\n",
    "# # # # # #\n",
    "# # # # #\n",
    "# # # #"
   ]
  },
  {
   "cell_type": "code",
   "execution_count": 11,
   "id": "336f48c2",
   "metadata": {},
   "outputs": [
    {
     "name": "stdout",
     "output_type": "stream",
     "text": [
      "### \n",
      "#### \n",
      "### \n",
      "## \n"
     ]
    }
   ],
   "source": [
    "\n",
    "for i in range(3, 5):\n",
    "  print('#'*i, end=' ')\n",
    "  print()\n",
    "\n",
    "j = 3\n",
    "while j >= 2:\n",
    "  print('#'*j, end=' ')\n",
    "  print()\n",
    "  j -=1\n",
    "  "
   ]
  },
  {
   "cell_type": "markdown",
   "id": "28a760d4",
   "metadata": {},
   "source": [
    "11. Display the Fibonacci series of 15 elements using the for and while loop."
   ]
  },
  {
   "cell_type": "code",
   "execution_count": 13,
   "id": "e118ed87",
   "metadata": {},
   "outputs": [
    {
     "name": "stdout",
     "output_type": "stream",
     "text": [
      "0\n",
      "1\n",
      "1\n",
      "2\n",
      "3\n",
      "5\n",
      "8\n",
      "13\n",
      "21\n",
      "34\n",
      "55\n",
      "89\n",
      "144\n",
      "233\n",
      "377\n",
      " \n",
      "1\n",
      "2\n",
      "3\n",
      "5\n",
      "8\n",
      "13\n",
      "21\n",
      "34\n",
      "55\n",
      "89\n",
      "144\n",
      "233\n",
      "377\n"
     ]
    }
   ],
   "source": [
    "a, b = 0, 1\n",
    "print(a)\n",
    "print(b)\n",
    "i = 2\n",
    "while i < 15:\n",
    "  a, b = b, a + b\n",
    "  print(b)\n",
    "  i += 1\n",
    "\n",
    "print(' ')\n",
    "\n",
    "a, b = 0, 1\n",
    "for i in range(2, 15):\n",
    "  a, b = b, a + b\n",
    "  print(b)"
   ]
  },
  {
   "cell_type": "markdown",
   "id": "963a05da",
   "metadata": {},
   "source": [
    "# Python inbuilt Data Structure:"
   ]
  },
  {
   "cell_type": "markdown",
   "id": "cd1bd166",
   "metadata": {},
   "source": [
    "12. Remove 2 and add 3 to the list and replace True with False.\n",
    "Li = [1,3,5, [2,3], True]\n",
    "Output = [1,3,5, [3,3], False]"
   ]
  },
  {
   "cell_type": "code",
   "execution_count": 3,
   "id": "af46d214",
   "metadata": {},
   "outputs": [
    {
     "name": "stdout",
     "output_type": "stream",
     "text": [
      "[1, 3, 5, [3, 3], False]\n"
     ]
    }
   ],
   "source": [
    "li = [1,3,5,[2,3],True]\n",
    "\n",
    "li[3].remove(2)\n",
    "li[3].append(3)\n",
    "\n",
    "li[-1] = False\n",
    "\n",
    "print(li)"
   ]
  },
  {
   "cell_type": "markdown",
   "id": "0a9929b5",
   "metadata": {},
   "source": [
    "13. Find the intersection (common) of two sets.\n",
    "S1 = {1,4,6,8}\n",
    "S2 = {True, 1,2,10}"
   ]
  },
  {
   "cell_type": "code",
   "execution_count": 4,
   "id": "3968b709",
   "metadata": {},
   "outputs": [
    {
     "name": "stdout",
     "output_type": "stream",
     "text": [
      "{True}\n"
     ]
    }
   ],
   "source": [
    "S1 = {1,4,6,8}\n",
    "S2 = {True, 1,2,10}\n",
    "\n",
    "S3 = S1.intersection(S2)\n",
    "\n",
    "print(S3)"
   ]
  },
  {
   "cell_type": "markdown",
   "id": "1864911c",
   "metadata": {},
   "source": [
    "14. Input a list from the user then Remove duplicates from a list and create a set and find the max\n",
    "number. User_input = [1,9,3,4,5,200,54]"
   ]
  },
  {
   "cell_type": "code",
   "execution_count": 5,
   "id": "10f12805",
   "metadata": {},
   "outputs": [
    {
     "name": "stdout",
     "output_type": "stream",
     "text": [
      "Enter items for list, separate by comma: 1,9,3,4,5,200,54\n",
      "Updated list:  [1, 3, 4, 5, 200, 9, 54]\n",
      "Enter items for set, separate by comma: 1,9,3,4,5,200,54\n",
      "Set:  {1, 3, 4, 5, 200, 9, 54}\n",
      "Maximum Value:  200\n"
     ]
    }
   ],
   "source": [
    "user_input = input('Enter items for list, separate by comma: ')\n",
    "\n",
    "user_list = [int(num) for num in user_input.split(',')]\n",
    "\n",
    "remove_duplicate = list(set(user_list))\n",
    "\n",
    "print('Updated list: ', remove_duplicate)\n",
    "\n",
    "user_input2 = input('Enter items for set, separate by comma: ')\n",
    "\n",
    "user_set = {int(num) for num in user_input2.split(',')}\n",
    "\n",
    "#user_set = set(user_set)\n",
    "\n",
    "print('Set: ', user_set)\n",
    "\n",
    "max_num = max(user_set)\n",
    "\n",
    "print('Maximum Value: ', max_num)"
   ]
  },
  {
   "cell_type": "markdown",
   "id": "0b1f093e",
   "metadata": {},
   "source": [
    "15. Rename the key of a dictionary.\n",
    "Dict = { \"name\": \"Shakil\", \"age\":27, \"city\": “Berlin”, \"country\": \"Germany\" }\n",
    "Write a program to rename a key ‘country’ to a ‘region’ in the following dictionary."
   ]
  },
  {
   "cell_type": "code",
   "execution_count": 6,
   "id": "500333b8",
   "metadata": {},
   "outputs": [
    {
     "name": "stdout",
     "output_type": "stream",
     "text": [
      "{'name': 'Shakil', 'age': 27, 'city': 'Berlin', 'region': 'Germany'}\n"
     ]
    }
   ],
   "source": [
    "Dict = { \"name\": \"Shakil\", \"age\": 27, \"city\": \"Berlin\", \"country\": \"Germany\" }\n",
    "\n",
    "Dict[\"region\"] = Dict.pop(\"country\")\n",
    "\n",
    "print(Dict)"
   ]
  },
  {
   "cell_type": "markdown",
   "id": "0b87d8a2",
   "metadata": {},
   "source": [
    "16. Creating a data frame using the list.\n",
    "num = [10,100,300] (column name is number)"
   ]
  },
  {
   "cell_type": "code",
   "execution_count": 7,
   "id": "0d0883bb",
   "metadata": {},
   "outputs": [
    {
     "name": "stdout",
     "output_type": "stream",
     "text": [
      "   number\n",
      "0      10\n",
      "1     100\n",
      "2     200\n"
     ]
    }
   ],
   "source": [
    "import pandas as pd\n",
    "\n",
    "data = {\n",
    "    \"number\": [10,100,200] \n",
    "}\n",
    "\n",
    "df = pd.DataFrame(data)\n",
    "\n",
    "print(df)"
   ]
  },
  {
   "cell_type": "markdown",
   "id": "229033ff",
   "metadata": {},
   "source": [
    "17. Change the value of a key in a given dictionary.\n",
    "Write a Python program to change ‘age’ to 28 in the following dictionary.\n",
    "Dict = { \"name\": \"Shakil\", \"age\":27, \"city\": “Berlin”, \"country\": \"Germany\" }"
   ]
  },
  {
   "cell_type": "code",
   "execution_count": 10,
   "id": "960a5cc4",
   "metadata": {},
   "outputs": [
    {
     "name": "stdout",
     "output_type": "stream",
     "text": [
      "{'name': 'Shakil', 'age': 28, 'city': 'Berlin', 'country': 'Germany'}\n"
     ]
    }
   ],
   "source": [
    "Dict = { \"name\": \"Shakil\", \"age\":27, \"city\": \"Berlin\", \"country\": \"Germany\" }\n",
    "\n",
    "Dict[\"age\"] = 28\n",
    "\n",
    "print(Dict)"
   ]
  },
  {
   "cell_type": "code",
   "execution_count": null,
   "id": "69914bc5",
   "metadata": {},
   "outputs": [],
   "source": []
  }
 ],
 "metadata": {
  "kernelspec": {
   "display_name": "Python 3 (ipykernel)",
   "language": "python",
   "name": "python3"
  },
  "language_info": {
   "codemirror_mode": {
    "name": "ipython",
    "version": 3
   },
   "file_extension": ".py",
   "mimetype": "text/x-python",
   "name": "python",
   "nbconvert_exporter": "python",
   "pygments_lexer": "ipython3",
   "version": "3.11.3"
  }
 },
 "nbformat": 4,
 "nbformat_minor": 5
}
